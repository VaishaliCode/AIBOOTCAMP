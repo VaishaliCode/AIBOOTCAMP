{
 "cells": [
  {
   "cell_type": "code",
   "execution_count": 1,
   "id": "d0f1045a-81c8-48bc-b4ad-f117bd6b91e6",
   "metadata": {},
   "outputs": [
    {
     "name": "stdout",
     "output_type": "stream",
     "text": [
      "Random List: [92, 86, 24, 51, 65, 59, 66, 47, 44, 79]\n",
      "Even Numbers: [92, 86, 24, 66, 44]\n"
     ]
    }
   ],
   "source": [
    "import random\n",
    "\n",
    "random_numbers = [random.randint(1, 100) for _ in range(10)]\n",
    "\n",
    "even_numbers = [num for num in random_numbers if num % 2 == 0]\n",
    "\n",
    "print(\"Random List:\", random_numbers)\n",
    "print(\"Even Numbers:\", even_numbers)\n"
   ]
  },
  {
   "cell_type": "code",
   "execution_count": 3,
   "id": "95cb8bb1-1e1b-4257-848d-095b234d2315",
   "metadata": {},
   "outputs": [
    {
     "name": "stdout",
     "output_type": "stream",
     "text": [
      "Original String: Hello world this is Jupyter\n",
      "Reversed String: retypuJ si siht dlrow olleH\n",
      "Reversed Words: Jupyter is this world Hello\n"
     ]
    }
   ],
   "source": [
    "\n",
    "my_string = \"Hello world this is Jupyter\"\n",
    "\n",
    "reversed_string = my_string[::-1]\n",
    "\n",
    "words_reversed = ' '.join(my_string.split()[::-1])\n",
    "print(\"Original String:\", my_string)\n",
    "print(\"Reversed String:\", reversed_string)\n",
    "print(\"Reversed Words:\", words_reversed)\n"
   ]
  },
  {
   "cell_type": "code",
   "execution_count": null,
   "id": "935a9407-3dd0-4f40-b9f4-f6930a1f833c",
   "metadata": {},
   "outputs": [],
   "source": []
  }
 ],
 "metadata": {
  "kernelspec": {
   "display_name": "Python 3 (ipykernel)",
   "language": "python",
   "name": "python3"
  },
  "language_info": {
   "codemirror_mode": {
    "name": "ipython",
    "version": 3
   },
   "file_extension": ".py",
   "mimetype": "text/x-python",
   "name": "python",
   "nbconvert_exporter": "python",
   "pygments_lexer": "ipython3",
   "version": "3.10.12"
  }
 },
 "nbformat": 4,
 "nbformat_minor": 5
}
