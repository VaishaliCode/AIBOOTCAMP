{
 "cells": [
  {
   "cell_type": "code",
   "execution_count": 1,
   "id": "535788fe-36c5-4974-8e6f-99cf671335df",
   "metadata": {},
   "outputs": [
    {
     "ename": "ModuleNotFoundError",
     "evalue": "No module named 'pandas'",
     "output_type": "error",
     "traceback": [
      "\u001b[0;31m---------------------------------------------------------------------------\u001b[0m",
      "\u001b[0;31mModuleNotFoundError\u001b[0m                       Traceback (most recent call last)",
      "Cell \u001b[0;32mIn[1], line 1\u001b[0m\n\u001b[0;32m----> 1\u001b[0m \u001b[38;5;28;01mimport\u001b[39;00m\u001b[38;5;250m \u001b[39m\u001b[38;5;21;01mpandas\u001b[39;00m\u001b[38;5;250m \u001b[39m\u001b[38;5;28;01mas\u001b[39;00m\u001b[38;5;250m \u001b[39m\u001b[38;5;21;01mpd\u001b[39;00m\n\u001b[1;32m      2\u001b[0m \u001b[38;5;28;01mimport\u001b[39;00m\u001b[38;5;250m \u001b[39m\u001b[38;5;21;01mnumpy\u001b[39;00m\u001b[38;5;250m \u001b[39m\u001b[38;5;28;01mas\u001b[39;00m\u001b[38;5;250m \u001b[39m\u001b[38;5;21;01mnp\u001b[39;00m\n\u001b[1;32m      4\u001b[0m \u001b[38;5;66;03m# Create the data dictionary\u001b[39;00m\n",
      "\u001b[0;31mModuleNotFoundError\u001b[0m: No module named 'pandas'"
     ]
    }
   ],
   "source": [
    "import pandas as pd\n",
    "import numpy as np\n",
    "\n",
    "# Create the data dictionary\n",
    "data = {\n",
    "    'Visitor_ID': [f'V{1000 + i}' for i in range(20)],\n",
    "    'Name': ['ABHISHEK SANDEEP      ZADE     ', 'ARNAV AJAY DESHPANDE.. ', '.. .. ASHWINI LALCHAND MUNDAWARE/ ', \n",
    "             'GAYATRI SURESH GAIKWAD', 'HARSHADA GANESH CHAUDHARI', 'VAIBHAVI HARISHWAR PATIL', np.nan, \n",
    "             'VISHAKHA PUNDLIK JADHAV', 'YASH BHARAT SOLUNKE/', 'VIVEK SANTOSH KHANDWE',\n",
    "             'VISHAKHA PUNDLIK JADHAV', 'Tanushree chhanwal', 'Shruti jaiswal', 'Shriyash Sulakhe', 'YASH BHARAT SOLUNKE',\n",
    "             np.nan, 'ARNAV AJAY DESHPANDE', 'RUTUJA SANTOSH THOTE', 'ROHIT DILIP BILWAL', 'RITESH SHIVAJI BAIRAGI'],\n",
    "    'Age': [25, 23, 22, np.nan, 21, 25, 24, 24, 28, np.nan,\n",
    "            22, 23, 25, 27, 25, 30, 31, 26, 19, 19],\n",
    "    'Ticket_Price': [500, 750, 500, 1000, np.nan, 500, 700, 650, 750, 1000,\n",
    "                      500, 800, np.nan, 750, 500, 700, 900, 850, 750, np.nan],\n",
    "    'Check_In_Time': ['10:00 AM', '10:30 AM', '11:00 AM', '11:30 AM', np.nan,\n",
    "                       '10:00 AM', '12:00 PM', '12:30 PM', '01:00 PM', '01:30 PM',\n",
    "                       '11:00 AM', '02:00 PM', np.nan, '02:30 PM', '10:00 AM',\n",
    "                       '12:00 PM', '03:00 PM', '03:30 PM', '04:00 PM', np.nan],\n",
    "    'City':['Delhi','Aurangabad', 'Mumbai','Bombay','New Delhi','NDL','Chennai','Chenai','Chennaai','Bangalore',\n",
    "            'Delhi','Pune', 'New Delhi','Bombay','New Delhi','NDL','Indore','Bangalore','Ujjain','Bangalore'],\n",
    "    'State': ['Delhi','Maharastra', 'Maharastra','Maharastra','Delhi','Delhi','Tamilnadu','Tamilnadu','Tamilnadu','Karnataka',\n",
    "            'Delhi','Maharastra', 'Delhi','Maharastra','Delhi','Delhi','Madhya Pradesh','Karnataka','Madhya Pradesh','Karnataka']\n",
    "}\n",
    "\n",
    "# Convert to DataFrame\n",
    "df = pd.DataFrame(data)\n",
    "\n",
    "# Save to CSV\n",
    "df.to_csv(\"kumbhmela_data.csv\", index=False)\n",
    "\n",
    "print(\"File saved as kumbhmela_data.csv\")\n"
   ]
  },
  {
   "cell_type": "code",
   "execution_count": 2,
   "id": "5efc5b70-3259-474c-a9f4-5370e31a5ec0",
   "metadata": {},
   "outputs": [
    {
     "name": "stdout",
     "output_type": "stream",
     "text": [
      "Defaulting to user installation because normal site-packages is not writeable\n",
      "Collecting pandas\n",
      "  Downloading pandas-2.2.3-cp310-cp310-manylinux_2_17_x86_64.manylinux2014_x86_64.whl (13.1 MB)\n",
      "\u001b[2K     \u001b[38;2;114;156;31m━━━━━━━━━━━━━━━━━━━━━━━━━━━━━━━━━━━━━━━━\u001b[0m \u001b[32m13.1/13.1 MB\u001b[0m \u001b[31m1.2 MB/s\u001b[0m eta \u001b[36m0:00:00\u001b[0mm eta \u001b[36m0:00:01\u001b[0m[36m0:00:01\u001b[0m\n",
      "Collecting numpy\n",
      "  Downloading numpy-2.2.2-cp310-cp310-manylinux_2_17_x86_64.manylinux2014_x86_64.whl (16.4 MB)\n",
      "\u001b[2K     \u001b[38;2;114;156;31m━━━━━━━━━━━━━━━━━━━━━━━━━━━━━━━━━━━━━━━━\u001b[0m \u001b[32m16.4/16.4 MB\u001b[0m \u001b[31m1.8 MB/s\u001b[0m eta \u001b[36m0:00:00\u001b[0mm eta \u001b[36m0:00:01\u001b[0m[36m0:00:01\u001b[0m\n",
      "Requirement already satisfied: pytz>=2020.1 in /usr/lib/python3/dist-packages (from pandas) (2022.1)\n",
      "Requirement already satisfied: python-dateutil>=2.8.2 in /home/babadi/.local/lib/python3.10/site-packages (from pandas) (2.9.0.post0)\n",
      "Collecting tzdata>=2022.7\n",
      "  Downloading tzdata-2025.1-py2.py3-none-any.whl (346 kB)\n",
      "\u001b[2K     \u001b[38;2;114;156;31m━━━━━━━━━━━━━━━━━━━━━━━━━━━━━━━━━━━━━━━\u001b[0m \u001b[32m346.8/346.8 KB\u001b[0m \u001b[31m1.7 MB/s\u001b[0m eta \u001b[36m0:00:00\u001b[0m[36m0:00:01\u001b[0m[36m0:00:01\u001b[0m:01\u001b[0m\n",
      "Requirement already satisfied: six>=1.5 in /usr/lib/python3/dist-packages (from python-dateutil>=2.8.2->pandas) (1.16.0)\n",
      "Installing collected packages: tzdata, numpy, pandas\n",
      "Successfully installed numpy-2.2.2 pandas-2.2.3 tzdata-2025.1\n"
     ]
    }
   ],
   "source": [
    "!pip install pandas numpy\n"
   ]
  },
  {
   "cell_type": "code",
   "execution_count": 3,
   "id": "0e4cbc6b-b7e4-41b3-a3a1-cffa09d9d34a",
   "metadata": {},
   "outputs": [
    {
     "name": "stdout",
     "output_type": "stream",
     "text": [
      "File saved as kumbhmela_data.csv\n"
     ]
    }
   ],
   "source": [
    "import pandas as pd\n",
    "import numpy as np\n",
    "\n",
    "# Create the data dictionary\n",
    "data = {\n",
    "    'Visitor_ID': [f'V{1000 + i}' for i in range(20)],\n",
    "    'Name': ['ABHISHEK SANDEEP      ZADE     ', 'ARNAV AJAY DESHPANDE.. ', '.. .. ASHWINI LALCHAND MUNDAWARE/ ', \n",
    "             'GAYATRI SURESH GAIKWAD', 'HARSHADA GANESH CHAUDHARI', 'VAIBHAVI HARISHWAR PATIL', np.nan, \n",
    "             'VISHAKHA PUNDLIK JADHAV', 'YASH BHARAT SOLUNKE/', 'VIVEK SANTOSH KHANDWE',\n",
    "             'VISHAKHA PUNDLIK JADHAV', 'Tanushree chhanwal', 'Shruti jaiswal', 'Shriyash Sulakhe', 'YASH BHARAT SOLUNKE',\n",
    "             np.nan, 'ARNAV AJAY DESHPANDE', 'RUTUJA SANTOSH THOTE', 'ROHIT DILIP BILWAL', 'RITESH SHIVAJI BAIRAGI'],\n",
    "    'Age': [25, 23, 22, np.nan, 21, 25, 24, 24, 28, np.nan,\n",
    "            22, 23, 25, 27, 25, 30, 31, 26, 19, 19],\n",
    "    'Ticket_Price': [500, 750, 500, 1000, np.nan, 500, 700, 650, 750, 1000,\n",
    "                      500, 800, np.nan, 750, 500, 700, 900, 850, 750, np.nan],\n",
    "    'Check_In_Time': ['10:00 AM', '10:30 AM', '11:00 AM', '11:30 AM', np.nan,\n",
    "                       '10:00 AM', '12:00 PM', '12:30 PM', '01:00 PM', '01:30 PM',\n",
    "                       '11:00 AM', '02:00 PM', np.nan, '02:30 PM', '10:00 AM',\n",
    "                       '12:00 PM', '03:00 PM', '03:30 PM', '04:00 PM', np.nan],\n",
    "    'City':['Delhi','Aurangabad', 'Mumbai','Bombay','New Delhi','NDL','Chennai','Chenai','Chennaai','Bangalore',\n",
    "            'Delhi','Pune', 'New Delhi','Bombay','New Delhi','NDL','Indore','Bangalore','Ujjain','Bangalore'],\n",
    "    'State': ['Delhi','Maharastra', 'Maharastra','Maharastra','Delhi','Delhi','Tamilnadu','Tamilnadu','Tamilnadu','Karnataka',\n",
    "            'Delhi','Maharastra', 'Delhi','Maharastra','Delhi','Delhi','Madhya Pradesh','Karnataka','Madhya Pradesh','Karnataka']\n",
    "}\n",
    "\n",
    "# Convert to DataFrame\n",
    "df = pd.DataFrame(data)\n",
    "\n",
    "# Save to CSV\n",
    "df.to_csv(\"kumbhmela_data.csv\", index=False)\n",
    "\n",
    "print(\"File saved as kumbhmela_data.csv\")"
   ]
  },
  {
   "cell_type": "code",
   "execution_count": 4,
   "id": "6acbd1d0-1b50-4a94-9afa-bd54ec812ac4",
   "metadata": {},
   "outputs": [
    {
     "name": "stdout",
     "output_type": "stream",
     "text": [
      "File saved as singers_data.csv\n"
     ]
    }
   ],
   "source": [
    "singers_data = {\n",
    "    'Singer': ['Arijit Singh', 'Shreya Ghoshal', 'Arijit Singh', 'Sonu Nigam', 'Shreya Ghoshal', \n",
    "               'Arijit Singh', 'KK', 'Sonu Nigam', 'KK', 'Shreya Ghoshal'],\n",
    "    'Song': ['Tum Hi Ho', 'Sun Raha Hai', 'Channa Mereya', 'Kal Ho Na Ho', 'Teri Ore', \n",
    "             'Raabta', 'Aankhon Mein Teri', 'Abhi Mujh Mein Kahin', 'Dil Ibaadat', 'Saibo']\n",
    "}\n",
    "\n",
    "df_singers = pd.DataFrame(singers_data)\n",
    "df_singers.to_csv(\"singers_data.csv\", index=False)\n",
    "\n",
    "print(\"File saved as singers_data.csv\")\n"
   ]
  },
  {
   "cell_type": "code",
   "execution_count": 5,
   "id": "b3e3860c-9ceb-4e2c-8745-e8e9c0975360",
   "metadata": {},
   "outputs": [
    {
     "ename": "ModuleNotFoundError",
     "evalue": "No module named 'matplotlib'",
     "output_type": "error",
     "traceback": [
      "\u001b[0;31m---------------------------------------------------------------------------\u001b[0m",
      "\u001b[0;31mModuleNotFoundError\u001b[0m                       Traceback (most recent call last)",
      "Cell \u001b[0;32mIn[5], line 3\u001b[0m\n\u001b[1;32m      1\u001b[0m \u001b[38;5;28;01mimport\u001b[39;00m\u001b[38;5;250m \u001b[39m\u001b[38;5;21;01mpandas\u001b[39;00m\u001b[38;5;250m \u001b[39m\u001b[38;5;28;01mas\u001b[39;00m\u001b[38;5;250m \u001b[39m\u001b[38;5;21;01mpd\u001b[39;00m\n\u001b[1;32m      2\u001b[0m \u001b[38;5;28;01mimport\u001b[39;00m\u001b[38;5;250m \u001b[39m\u001b[38;5;21;01mnumpy\u001b[39;00m\u001b[38;5;250m \u001b[39m\u001b[38;5;28;01mas\u001b[39;00m\u001b[38;5;250m \u001b[39m\u001b[38;5;21;01mnp\u001b[39;00m\n\u001b[0;32m----> 3\u001b[0m \u001b[38;5;28;01mimport\u001b[39;00m\u001b[38;5;250m \u001b[39m\u001b[38;5;21;01mmatplotlib\u001b[39;00m\u001b[38;5;21;01m.\u001b[39;00m\u001b[38;5;21;01mpyplot\u001b[39;00m\u001b[38;5;250m \u001b[39m\u001b[38;5;28;01mas\u001b[39;00m\u001b[38;5;250m \u001b[39m\u001b[38;5;21;01mplt\u001b[39;00m\n\u001b[1;32m      5\u001b[0m \u001b[38;5;66;03m# load the data\u001b[39;00m\n\u001b[1;32m      6\u001b[0m kumbh_df \u001b[38;5;241m=\u001b[39m pd\u001b[38;5;241m.\u001b[39mread_csv(\u001b[38;5;124m\"\u001b[39m\u001b[38;5;124mkumbhmela_data.csv\u001b[39m\u001b[38;5;124m\"\u001b[39m)  \u001b[38;5;66;03m# assuming it's a csv file\u001b[39;00m\n",
      "\u001b[0;31mModuleNotFoundError\u001b[0m: No module named 'matplotlib'"
     ]
    }
   ],
   "source": [
    "import pandas as pd\n",
    "import numpy as np\n",
    "import matplotlib.pyplot as plt\n",
    "\n",
    "# load the data\n",
    "kumbh_df = pd.read_csv(\"kumbhmela_data.csv\")  # assuming it's a csv file\n",
    "\n",
    "# print size\n",
    "print(\"Size:\", kumbh_df.shape)\n",
    "\n",
    "# print some rows\n",
    "print(kumbh_df.head())\n",
    "print(kumbh_df.tail(2))\n",
    "\n",
    "# check column types\n",
    "print(kumbh_df.dtypes)\n",
    "\n",
    "# get some stats\n",
    "print(kumbh_df.describe(include='all'))\n",
    "\n",
    "# clean \"Name\" column\n",
    "if 'Name' in kumbh_df.columns:\n",
    "    kumbh_df['Name'] = kumbh_df['Name'].str.replace(r'[^a-zA-Z ]', '', regex=True).str.strip()\n",
    "\n",
    "# handle missing values\n",
    "kumbh_df.fillna({\n",
    "    'Name': 'Unknown',\n",
    "    'Age': kumbh_df['Age'].mean() if 'Age' in kumbh_df.columns else None,\n",
    "    'Ticket_Price': kumbh_df['Ticket_Price'].mean() if 'Ticket_Price' in kumbh_df.columns else None\n",
    "}, inplace=True)\n",
    "\n",
    "# remove duplicates\n",
    "kumbh_df.drop_duplicates(inplace=True)\n",
    "\n",
    "# load singers data\n",
    "singers_df = pd.read_csv(\"singers_data.csv\")\n",
    "\n",
    "# make a bar chart\n",
    "singer_counts = singers_df['Singer'].value_counts()\n",
    "plt.figure(figsize=(10, 5))\n",
    "singer_counts.plot(kind='bar', color='skyblue')\n",
    "plt.xlabel(\"Singer\")\n",
    "plt.ylabel(\"Songs Count\")\n",
    "plt.title(\"Songs by Each Singer\")\n",
    "plt.xticks(rotation=45)\n",
    "plt.show()\n"
   ]
  },
  {
   "cell_type": "code",
   "execution_count": 6,
   "id": "f6984598-c3bd-4e23-885c-e903fb8d4d0d",
   "metadata": {},
   "outputs": [
    {
     "name": "stdout",
     "output_type": "stream",
     "text": [
      "Defaulting to user installation because normal site-packages is not writeable\n",
      "Collecting matplotlib\n",
      "  Downloading matplotlib-3.10.0-cp310-cp310-manylinux_2_17_x86_64.manylinux2014_x86_64.whl (8.6 MB)\n",
      "\u001b[2K     \u001b[38;2;114;156;31m━━━━━━━━━━━━━━━━━━━━━━━━━━━━━━━━━━━━━━━━\u001b[0m \u001b[32m8.6/8.6 MB\u001b[0m \u001b[31m831.1 kB/s\u001b[0m eta \u001b[36m0:00:00\u001b[0mm eta \u001b[36m0:00:01\u001b[0m[36m0:00:01\u001b[0m\n",
      "Collecting fonttools>=4.22.0\n",
      "  Downloading fonttools-4.55.8-cp310-cp310-manylinux_2_17_x86_64.manylinux2014_x86_64.whl (4.6 MB)\n",
      "\u001b[2K     \u001b[38;2;114;156;31m━━━━━━━━━━━━━━━━━━━━━━━━━━━━━━━━━━━━━━━━\u001b[0m \u001b[32m4.6/4.6 MB\u001b[0m \u001b[31m1.1 MB/s\u001b[0m eta \u001b[36m0:00:00\u001b[0mm eta \u001b[36m0:00:01\u001b[0m[36m0:00:01\u001b[0m\n",
      "\u001b[?25hRequirement already satisfied: python-dateutil>=2.7 in /home/babadi/.local/lib/python3.10/site-packages (from matplotlib) (2.9.0.post0)\n",
      "Collecting kiwisolver>=1.3.1\n",
      "  Downloading kiwisolver-1.4.8-cp310-cp310-manylinux_2_12_x86_64.manylinux2010_x86_64.whl (1.6 MB)\n",
      "\u001b[2K     \u001b[38;2;114;156;31m━━━━━━━━━━━━━━━━━━━━━━━━━━━━━━━━━━━━━━━━\u001b[0m \u001b[32m1.6/1.6 MB\u001b[0m \u001b[31m1.2 MB/s\u001b[0m eta \u001b[36m0:00:00\u001b[0mm eta \u001b[36m0:00:01\u001b[0m0:01\u001b[0m:01\u001b[0m\n",
      "\u001b[?25hRequirement already satisfied: pyparsing>=2.3.1 in /usr/lib/python3/dist-packages (from matplotlib) (2.4.7)\n",
      "Requirement already satisfied: packaging>=20.0 in /home/babadi/.local/lib/python3.10/site-packages (from matplotlib) (24.2)\n",
      "Collecting contourpy>=1.0.1\n",
      "  Downloading contourpy-1.3.1-cp310-cp310-manylinux_2_17_x86_64.manylinux2014_x86_64.whl (324 kB)\n",
      "\u001b[2K     \u001b[38;2;114;156;31m━━━━━━━━━━━━━━━━━━━━━━━━━━━━━━━━━━━━━\u001b[0m \u001b[32m325.0/325.0 KB\u001b[0m \u001b[31m785.9 kB/s\u001b[0m eta \u001b[36m0:00:00\u001b[0m[36m0:00:01\u001b[0mm eta \u001b[36m0:00:01\u001b[0m\n",
      "\u001b[?25hRequirement already satisfied: pillow>=8 in /usr/lib/python3/dist-packages (from matplotlib) (9.0.1)\n",
      "Collecting cycler>=0.10\n",
      "  Downloading cycler-0.12.1-py3-none-any.whl (8.3 kB)\n",
      "Requirement already satisfied: numpy>=1.23 in /home/babadi/.local/lib/python3.10/site-packages (from matplotlib) (2.2.2)\n",
      "Requirement already satisfied: six>=1.5 in /usr/lib/python3/dist-packages (from python-dateutil>=2.7->matplotlib) (1.16.0)\n",
      "Installing collected packages: kiwisolver, fonttools, cycler, contourpy, matplotlib\n",
      "Successfully installed contourpy-1.3.1 cycler-0.12.1 fonttools-4.55.8 kiwisolver-1.4.8 matplotlib-3.10.0\n"
     ]
    }
   ],
   "source": [
    "!pip install matplotlib\n"
   ]
  },
  {
   "cell_type": "code",
   "execution_count": 8,
   "id": "17b1ecc4-ebec-4da1-8e91-4fbad2e2e980",
   "metadata": {},
   "outputs": [
    {
     "name": "stdout",
     "output_type": "stream",
     "text": [
      "Size: (20, 7)\n",
      "  Visitor_ID                                Name   Age  Ticket_Price  \\\n",
      "0      V1000     ABHISHEK SANDEEP      ZADE       25.0         500.0   \n",
      "1      V1001             ARNAV AJAY DESHPANDE..   23.0         750.0   \n",
      "2      V1002  .. .. ASHWINI LALCHAND MUNDAWARE/   22.0         500.0   \n",
      "3      V1003              GAYATRI SURESH GAIKWAD   NaN        1000.0   \n",
      "4      V1004           HARSHADA GANESH CHAUDHARI  21.0           NaN   \n",
      "\n",
      "  Check_In_Time        City       State  \n",
      "0      10:00 AM       Delhi       Delhi  \n",
      "1      10:30 AM  Aurangabad  Maharastra  \n",
      "2      11:00 AM      Mumbai  Maharastra  \n",
      "3      11:30 AM      Bombay  Maharastra  \n",
      "4           NaN   New Delhi       Delhi  \n",
      "   Visitor_ID                    Name   Age  Ticket_Price Check_In_Time  \\\n",
      "18      V1018      ROHIT DILIP BILWAL  19.0         750.0      04:00 PM   \n",
      "19      V1019  RITESH SHIVAJI BAIRAGI  19.0           NaN           NaN   \n",
      "\n",
      "         City           State  \n",
      "18     Ujjain  Madhya Pradesh  \n",
      "19  Bangalore       Karnataka  \n",
      "Visitor_ID        object\n",
      "Name              object\n",
      "Age              float64\n",
      "Ticket_Price     float64\n",
      "Check_In_Time     object\n",
      "City              object\n",
      "State             object\n",
      "dtype: object\n",
      "       Visitor_ID                     Name        Age  Ticket_Price  \\\n",
      "count          20                       18  18.000000     17.000000   \n",
      "unique         20                       17        NaN           NaN   \n",
      "top         V1000  VISHAKHA PUNDLIK JADHAV        NaN           NaN   \n",
      "freq            1                        2        NaN           NaN   \n",
      "mean          NaN                      NaN  24.388889    711.764706   \n",
      "std           NaN                      NaN   3.292396    170.045409   \n",
      "min           NaN                      NaN  19.000000    500.000000   \n",
      "25%           NaN                      NaN  22.250000    500.000000   \n",
      "50%           NaN                      NaN  24.500000    750.000000   \n",
      "75%           NaN                      NaN  25.750000    800.000000   \n",
      "max           NaN                      NaN  31.000000   1000.000000   \n",
      "\n",
      "       Check_In_Time       City  State  \n",
      "count             17         20     20  \n",
      "unique            13         13      5  \n",
      "top         10:00 AM  New Delhi  Delhi  \n",
      "freq               3          3      7  \n",
      "mean             NaN        NaN    NaN  \n",
      "std              NaN        NaN    NaN  \n",
      "min              NaN        NaN    NaN  \n",
      "25%              NaN        NaN    NaN  \n",
      "50%              NaN        NaN    NaN  \n",
      "75%              NaN        NaN    NaN  \n",
      "max              NaN        NaN    NaN  \n"
     ]
    },
    {
     "data": {
      "image/png": "[encoded data removed]",
      "text/plain": [
       "<Figure size 1000x500 with 1 Axes>"
      ]
     },
     "metadata": {},
     "output_type": "display_data"
    }
   ],
   "source": [
    "import pandas as pd\n",
    "import numpy as np\n",
    "import matplotlib.pyplot as plt\n",
    "\n",
    "# load the data\n",
    "kumbh_df = pd.read_csv(\"kumbhmela_data.csv\")  # assuming it's a csv file\n",
    "\n",
    "# print size\n",
    "print(\"Size:\", kumbh_df.shape)\n",
    "\n",
    "# print some rows\n",
    "print(kumbh_df.head())\n",
    "print(kumbh_df.tail(2))\n",
    "\n",
    "# check column types\n",
    "print(kumbh_df.dtypes)\n",
    "\n",
    "# get some stats\n",
    "print(kumbh_df.describe(include='all'))\n",
    "\n",
    "# clean \"Name\" column\n",
    "if 'Name' in kumbh_df.columns:\n",
    "    kumbh_df['Name'] = kumbh_df['Name'].str.replace(r'[^a-zA-Z ]', '', regex=True).str.strip()\n",
    "\n",
    "# handle missing values\n",
    "kumbh_df.fillna({\n",
    "    'Name': 'Unknown',\n",
    "    'Age': kumbh_df['Age'].mean() if 'Age' in kumbh_df.columns else None,\n",
    "    'Ticket_Price': kumbh_df['Ticket_Price'].mean() if 'Ticket_Price' in kumbh_df.columns else None\n",
    "}, inplace=True)\n",
    "\n",
    "# remove duplicates\n",
    "kumbh_df.drop_duplicates(inplace=True)\n",
    "\n",
    "# load singers data\n",
    "singers_df = pd.read_csv(\"singers_data.csv\")\n",
    "\n",
    "# make a bar chart\n",
    "singer_counts = singers_df['Singer'].value_counts()\n",
    "plt.figure(figsize=(10, 5))\n",
    "singer_counts.plot(kind='bar', color='skyblue')\n",
    "plt.xlabel(\"Singer\")\n",
    "plt.ylabel(\"Songs Count\")\n",
    "plt.title(\"Songs by Each Singer\")\n",
    "plt.xticks(rotation=45)\n",
    "plt.show()\n"
   ]
  },
  {
   "cell_type": "code",
   "execution_count": null,
   "id": "30ba343d-f787-4b98-94a8-60a73977da28",
   "metadata": {},
   "outputs": [],
   "source": []
  }
 ],
 "metadata": {
  "kernelspec": {
   "display_name": "Python 3 (ipykernel)",
   "language": "python",
   "name": "python3"
  },
  "language_info": {
   "codemirror_mode": {
    "name": "ipython",
    "version": 3
   },
   "file_extension": ".py",
   "mimetype": "text/x-python",
   "name": "python",
   "nbconvert_exporter": "python",
   "pygments_lexer": "ipython3",
   "version": "3.10.12"
  }
 },
 "nbformat": 4,
 "nbformat_minor": 5
}
